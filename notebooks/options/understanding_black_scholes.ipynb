{
 "cells": [
  {
   "cell_type": "markdown",
   "metadata": {},
   "source": [
    "# Understanding the Black-Scholes Equation"
   ]
  },
  {
   "cell_type": "markdown",
   "metadata": {},
   "source": [
    "## What is this equation trying to capture?"
   ]
  },
  {
   "cell_type": "markdown",
   "metadata": {},
   "source": [
    "The Black-Scholes equation models the value of European options. One might ask: what is an European option? \n",
    "\n",
    "First, let's start from the basics. An option is a type of derivative, but not in the mathematical sense: derivatives are a type of financial contract whose value depends (that is, is <u>derived</u> from!) the value of an underlying asset. While I am ignorant on how many different types of derivaties there exist, there are two that are perhaps the most important and commonly seen: lock and option. \n",
    "\n",
    "Lock products bind the two parties to the terms of the contract. For instance, a contract may dictate that, at a specific future date, party A will buy a X amount of product Y from party B for a total of Z dolars. Examples include future and forwards contracts, which operate similarly to the example above, but differ in that futures are standardized and traded on an exchange, while forwards are effectively private contracts whose terms can be customized by the signatories. \n",
    "\n",
    "Options are somewhat similar, but the party who posseses the option is not required to exercise it. For example, if one has a call option that allows them to buy stock X for $K$ dollars a share, and, at its expiration date, the price of a share is $S<K$, it would be better to not exercise the option. Call options allow one to buy a stock for a pre-determined price (called the strike price) at the expiration date, while put options allow one to sell a stock for a strike price at the expiration date. European options can only be exercise at the expiration date, while Americal options can be exercise at any point prior to the expiration date. \n",
    "\n",
    "The Black-Scholes equation is an attempt to compute values of European options. Seeing as these are a bit more complicated form of derivatives, let's start with the more basic ones: futures."
   ]
  },
  {
   "cell_type": "markdown",
   "metadata": {},
   "source": [
    "## Futures"
   ]
  },
  {
   "cell_type": "markdown",
   "metadata": {},
   "source": [
    "We know of a futures contract is, so here, let's introduce some notation:\n",
    "- $\\tau$ is the time to maturity, when the contract ends and the two parties engage in some form of exchange\n",
    "- $S_0$ is the present (today) price of the underlying asset\n",
    "- $r$ is the risk-free interest rate (usually based on inflation and Treasury notes)\n",
    "- $F_0$ is the forward price today (not the value of the contract!!)"
   ]
  },
  {
   "cell_type": "markdown",
   "metadata": {},
   "source": [
    "Under the assumption that the underlying asset provides no dividends,\n",
    "\\begin{equation*}\n",
    "F_0 = S_0 \\exp(r\\tau)\n",
    "\\end{equation*}\n",
    "\n",
    "To see this, consider two cases:\n",
    "1. $F_0 > S_0 \\exp(r\\tau)$: One can borrow  $S_0$, buy the asset, and short a future contract to sell the asset in the future at price $F_0$, with a profit of $F_0 - S_0 \\exp(r\\tau)$\n",
    "2. $F_0 < S_0 \\exp(r\\tau)$: One can short the asset, imediately receive $S_0$ and invest it, and enter a futures contract to buy the asset at $F_0$, giving a profit of $S_0 \\exp(r\\tau) - F_0$\n",
    "\n",
    "If the asset provides a known income with present value $I$, then, similarly,\n",
    "\\begin{equation*}\n",
    "F_0 = (S_0 - I)\\exp(r\\tau)\n",
    "\\end{equation*}\n",
    "\n",
    "If instead the asset has a known yield $q$ over time $\\tau$, then if at present one owns one unite of he asset, at the end, that would have grown to $\\exp(q\\tau)$ units, which could then be sold for $F_0$, meaning $F_0 \\exp(q\\tau) = S_0 \\exp(r\\tau)$\n",
    "\\begin{equation*}\n",
    "F_0 = S_0 e^{(r-q)\\tau}\n",
    "\\end{equation*}"
   ]
  },
  {
   "cell_type": "markdown",
   "metadata": {},
   "source": [
    "As such, the present value of a future contract with determined delivery price $K$ is \n",
    "\\begin{equation*}\n",
    "f = (F_0 - K)\\exp(-r\\tau)\n",
    "\\end{equation*}\n",
    "\n",
    "That is, for example, if the present price of the asset is $S_0$, then\n",
    "\\begin{equation*}\n",
    "f = S_0 - K\\exp(-r\\tau)\n",
    "\\end{equation*}\n",
    "\n",
    "Similarly, in the conditions in which additional income is present, one can simply substitute for the proper futures price $F_0$"
   ]
  },
  {
   "cell_type": "markdown",
   "metadata": {},
   "source": [
    "There is obviously more analysis one can do with futures, but this covers the basic. Let's now move on to the main case at hand: options."
   ]
  },
  {
   "cell_type": "markdown",
   "metadata": {},
   "source": [
    "## Options"
   ]
  },
  {
   "cell_type": "markdown",
   "metadata": {},
   "source": [
    "### Setup"
   ]
  },
  {
   "cell_type": "markdown",
   "metadata": {},
   "source": [
    "Due to the nature of options, at the expiration date, assuming the strike price is $K$ and the spot price is $S$, the value of a call option (which allows one to buy the asset for $K$) is $\\max(S-K,0)$, which we will denote for now as $[S-K]^+$. Similary, the value of a put option, which allows one to sell the asset for $K$, is $\\max(K-S,0)=[K-S]^+$."
   ]
  },
  {
   "cell_type": "markdown",
   "metadata": {},
   "source": [
    "Now, how do we compute the present value of such an option? That is what the Black-Scholes equation is trying to do!\n",
    "\n",
    "In order to understand it, let's start with the simpler version, with the following assumptions:\n",
    "1. The price of the underlying asset follows a geometric Brownian motion (discussed in [this notebook](../stochastic_processes/visualizing_ito.ipynb)) with constant drift $\\mu$ and volatility $\\sigma$\n",
    "2. No dividends are paid during the life of the derivative\n",
    "3. The risk-free interest rate $r$ is constant\n",
    "4. There are no transaction fees or taxes\n",
    "5. There are no riskless arbitrage opportunities (this one is pretty important, as it dictates that the expected change of value of anything should follow the risk-free interest rate $r$)\n"
   ]
  },
  {
   "cell_type": "markdown",
   "metadata": {},
   "source": [
    "Let $f$ denote the value of such a derivative. From Itô's lemma, discussed [here](../stochastic_processes/understanding_ito.ipynb), and assumption 1 above, we have that\n",
    "\\begin{equation*}\n",
    "df = \\left(\\frac{\\partial f}{\\partial t} + \\frac{\\sigma^2 S^2}{2}\\frac{\\partial^2 f}{\\partial S^2}\\right) dt + \\frac{\\partial f}{\\partial S}dS\n",
    "\\end{equation*}"
   ]
  },
  {
   "cell_type": "markdown",
   "metadata": {},
   "source": [
    "It is possible to eliminate the Wiener process terms by constructing a portfolio composed of -1 derivative (meaning we short it) and $\\frac{\\partial f}{\\partial S}$ stock. The value of such a portfolio would be\n",
    "\\begin{equation*}\n",
    "\\Pi = -f + \\frac{\\partial f}{\\partial S}S\n",
    "\\end{equation*}\n",
    "\n",
    "Part of the assumption here is that we continuosly update our position in $S$ and $\\frac{\\partial f}{\\partial S}$ changes (for that, we need a self-financing portfolio)\n",
    "\n",
    "Because of this, we can write\n",
    "\\begin{align*}\n",
    "d\\Pi &= -df + \\frac{\\partial f}{\\partial S}dS \\\\\n",
    "&= -\\left[\\left(\\frac{\\partial f}{\\partial t} + \\frac{\\sigma^2 S^2}{2}\\frac{\\partial^2 f}{\\partial S^2}\\right) dt + \\frac{\\partial f}{\\partial S}dS\\right] +  \\frac{\\partial f}{\\partial S}dS \\\\\n",
    "&=-\\left(\\frac{\\partial f}{\\partial t} + \\frac{\\sigma^2 S^2}{2}\\frac{\\partial^2 f}{\\partial S^2}\\right) dt\n",
    "\\end{align*}"
   ]
  },
  {
   "cell_type": "markdown",
   "metadata": {},
   "source": [
    "But, from assumptions 3 and 5, we have that $d\\Pi = r\\Pi dt$, which means\n",
    "\\begin{align*}\n",
    "&-\\left(\\frac{\\partial f}{\\partial t} + \\frac{\\sigma^2 S^2}{2}\\frac{\\partial^2 f}{\\partial S^2}\\right) dt = r\\left(-f + \\frac{\\partial f}{\\partial S}S\\right)dt \\\\\n",
    "&rf = \\frac{\\partial f}{\\partial t} + rS\\frac{\\partial f}{\\partial S} + \\frac{\\sigma^2 S^2}{2}\\frac{\\partial^2 f}{\\partial S^2}\n",
    "\\end{align*}"
   ]
  },
  {
   "cell_type": "markdown",
   "metadata": {},
   "source": [
    "This is the Black-Scholes main stochastic differential equation (SDE) that needs to be solved to compute the value of a derivative. The solution to this equation depends on the boundary conditions being used. \n",
    "\n",
    "Before we move on to options, let's validate that our analysis for futures from the above section obeys this. Recall that, for that type of derivative, assuming no dividends, we have $f=S - K\\exp(-r\\tau)$, where $\\tau = T-t$. \n",
    "\n",
    "Therefore, we have\n",
    "\\begin{align*}\n",
    "\\frac{\\partial f}{\\partial t} &= \\frac{\\partial f}{\\partial \\tau} \\frac{\\partial \\tau}{\\partial t} = -rK \\exp(-r\\tau) \\\\\n",
    "\\frac{\\partial f}{\\partial S} &= 1 \\\\\n",
    "\\frac{\\partial^2 f}{\\partial S^2} &= 0\n",
    "\\end{align*}\n",
    "\n",
    "Substituting these back into the equation above, we get\n",
    "\\begin{align*}\n",
    "\\frac{\\partial f}{\\partial t} + rS\\frac{\\partial f}{\\partial S} + \\frac{\\sigma^2 S^2}{2}\\frac{\\partial^2 f}{\\partial S^2} &= -rK\\exp(-r\\tau) + rS*1 + \\frac{\\sigma^2 S^2}{2}*0 \\\\\n",
    "&=r\\left[S - K\\exp(-r\\tau)\\right] \\\\\n",
    "&= rf,\n",
    "\\end{align*}\n",
    "as expected. "
   ]
  },
  {
   "cell_type": "markdown",
   "metadata": {},
   "source": [
    "### The price is right?"
   ]
  },
  {
   "cell_type": "markdown",
   "metadata": {},
   "source": [
    "Recall the Black-Scholes-Merton SDE:\n",
    "\\begin{equation*}\n",
    "rf = \\frac{\\partial f}{\\partial t} + rS\\frac{\\partial f}{\\partial S} + \\frac{\\sigma^2 S^2}{2}\\frac{\\partial^2 f}{\\partial S^2}\n",
    "\\end{equation*}\n",
    "\n",
    "Let's investigate it for an European call option, for which the payoff at time $T$ is $\\left[S_T-K\\right]^+$. That constitutes one of the boundary conditions."
   ]
  },
  {
   "cell_type": "markdown",
   "metadata": {},
   "source": [
    "Now, when reading John Hull's book, as well as online, it seems common to use a risk-neutral valuation/probability measure. The ultimate result of this is that the drift term in the geometric Brownian motion is the risk-free rate, that is $\\mu=r$.\n",
    "\n",
    "From what I could understand from John Hull's book, this is not a necessary simplification, but rather one that happens to match the same results as that from a world in which investors are risk-averse (that means, if one takes on more risk, one expects higher returns). The argument the book makes is that, since $\\mu$ does not appear in the Black-Scholes SDE, it is independent of risk, and, therefore, no risk preference should affect the result. Conceptually, this makes sense to me, however, I am still trying to wrap my head around it, as $\\mu$ is somewhat imbued inside $S$. I think this is something I will have to check out by myself later. This other [short text](https://papers.ssrn.com/sol3/papers.cfm?abstract_id=364760) by Emanuel Derman may also help me better understand it. \n",
    "\n",
    "Another critical part of this is that we can use the risk-free interest rate as a discount rate for future payoffs as well. This makes it so that, ultimately, we need to find what is the expected value of the payoff, that is, $\\mathbb{E}\\left[[S_T-K]^+\\right]$"
   ]
  },
  {
   "cell_type": "markdown",
   "metadata": {},
   "source": [
    "Assuming that we are presently at time $t=0$, such that $\\tau=T$, the value of the European call option can thus be expressed as \n",
    "\\begin{equation*}\n",
    "C = e^{-rT}\\mathbb{E}\\left[[S_T-K]^+\\right]\n",
    "\\end{equation*}"
   ]
  },
  {
   "cell_type": "markdown",
   "metadata": {},
   "source": [
    "The solution hinges on computing $\\mathbb{E}\\left[[S_T-K]^+\\right]$. We can do so analytically, seeing as $S_T$ is a lognormal random variable with mean $S_0 e^{\\mu \\tau}$ and variance $S_0^2 e^{2\\mu \\tau}\\left(e^{\\sigma^2\\tau} - 1\\right)$, as discussed [here](../stochastic_processes/visualizing_ito.ipynb). Note that, for now, I am keeping the same notation with $\\mu$ and $\\tau$, instead of $r$ and $T$."
   ]
  },
  {
   "cell_type": "markdown",
   "metadata": {},
   "source": [
    "Let $g(V)$ denote the probability density function for a lognormal random variable $V$. It is easy to see that\n",
    "\\begin{equation*}\n",
    "\\mathbb{E}\\left[\\max(V-K,0)\\right] = \\int_K^\\infty (V-K) g(V) dV\n",
    "\\end{equation*}"
   ]
  },
  {
   "cell_type": "markdown",
   "metadata": {},
   "source": [
    "The hard way to do this is to plug in the necessary values for the lognormal PDF and brute-force it. Alternatively, we can also do some clever variable substitutions.\n",
    "\n",
    "As we know, $\\ln(V)$ follows a normal distribution. Let $w$ be its standard deviation. As we have already seen, the mean is given by \n",
    "\\begin{equation*}\n",
    "m = \\ln(\\mathbb{E}[V]) - \\frac{w^2}{2}\n",
    "\\end{equation*}\n",
    "\n",
    "We can define a new variable that follows $\\mathcal{N}(0,1)$:\n",
    "\\begin{equation*}\n",
    "Q = \\frac{\\ln(V) - m}{w}\n",
    "\\end{equation*}\n",
    "\n",
    "Naturally, its PDF is given by\n",
    "\\begin{equation*}\n",
    "h(Q) = \\frac{1}{\\sqrt{2\\pi}}e^{-Q^2/2}\n",
    "\\end{equation*}\n",
    "\n",
    "We can thus rewrite\n",
    "\\begin{align*}\n",
    "\\mathbb{E}\\left[\\max(V-K,0)\\right] &= \\int_{(\\ln(K)-m)/w}^{\\infty} (e^{Qw+m}-K)h(Q)dQ \\\\\n",
    "&=\\int_{(\\ln(K)-m)/w}^{\\infty} e^{Qw+m}h(Q)dQ - K\\int_{(\\ln(K)-m)/w}^{\\infty}h(Q)dQ\n",
    "\\end{align*}\n",
    "\n",
    "Note that \n",
    "\\begin{equation*}\n",
    "e^{Qw+m}h(Q) = e^{m+w^2/2}h(Q-w)\n",
    "\\end{equation*}\n",
    "\n",
    "Let $N(x)$ denote the cumulative distribution function of $\\mathcal{N}(0,1)$. The first integral then becomes\n",
    "\\begin{align*}\n",
    "\\int_{(\\ln(K)-m)/w}^{\\infty} e^{Qw+m}h(Q)dQ &= e^{m+w^2/2}\\int_{(\\ln(K)-m)/w}^{\\infty}h(Q-w)dQ \\\\\n",
    "&=e^{m+w^2/2}\\left[1-N\\left(\\frac{\\ln(K)-m}{w}-w\\right)\\right]\\\\\n",
    "&=\\mathbb{E}[V]N\\left(w-\\frac{\\ln(K)-m}{w}\\right)\\\\\n",
    "&=\\mathbb{E}[V]N\\left(\\frac{1}{w}\\left(\\ln\\frac{\\mathbb{E}[V]}{K} + \\frac{w^2}{2}\\right)\\right)\n",
    "\\end{align*}"
   ]
  },
  {
   "cell_type": "markdown",
   "metadata": {},
   "source": [
    "In the particular case of the European option we are studying, $\\mathbb{E}[S_T]=S_0e^{\\mu \\tau}$, with $w$ above being $\\sigma\\sqrt{\\tau}$. Using the risk-netral probability measure to get $\\mu=r$, and assuming $\\tau=T$, the value of the call option then becomes\n",
    "\\begin{align*}\n",
    "C &= e^{-rT}\\mathbb{E}\\left[[S_T-K]^+\\right]\\\\\n",
    "&=e^{-rT}\\left[\\mathbb{E}[S_T]N(d_1) - KN(d_2)\\right]\\\\\n",
    "&=S_0N(d_1) - Ke^{-rT}N(d_2),\n",
    "\\end{align*}\n",
    "where\n",
    "\\begin{align*}\n",
    "d_1 &= \\frac{1}{\\sigma \\sqrt{T}}\\left[\\ln\\left(\\frac{\\mathbb{E}[S_T]}{K}\\right) + \\frac{\\sigma^2 T}{2}\\right] = \n",
    "\\frac{1}{\\sigma \\sqrt{T}}\\left[\\ln\\left(\\frac{S_t}{K}\\right) + T\\left(\\mu + \\frac{\\sigma^2}{2}\\right)\\right] \\\\\n",
    "d_2 &= \\frac{1}{\\sigma \\sqrt{T}}\\left[\\ln\\left(\\frac{\\mathbb{E}[S_T]}{K}\\right) - \\frac{\\sigma^2 T}{2}\\right] = \n",
    "\\frac{1}{\\sigma \\sqrt{T}}\\left[\\ln\\left(\\frac{S_t}{K}\\right) + T\\left(\\mu - \\frac{\\sigma^2}{2}\\right)\\right] \n",
    "\\end{align*}"
   ]
  },
  {
   "cell_type": "markdown",
   "metadata": {},
   "source": [
    "Note that, if we with to not use $\\mu=r$ and $\\tau=T$, but still use $r$ as the discount rate, we would have\n",
    "\\begin{equation*}\n",
    "C = e^{(\\mu-r)\\tau}S_t N(d_1) - Ke^{-r\\tau}N(d_2),\n",
    "\\end{equation*}\n",
    "with appropriate substitutions in the expressions of $d_1$ and $d_2$."
   ]
  },
  {
   "cell_type": "markdown",
   "metadata": {},
   "source": [
    "A similar process can be used to show that the value of an European put option on an asset that pays no dividends is given by\n",
    "\\begin{align*}\n",
    "P = K e^{-r\\tau} N(-d_2) - S_t e^{(\\mu-r)\\tau} N(-d_1)\n",
    "\\end{align*}"
   ]
  },
  {
   "cell_type": "markdown",
   "metadata": {},
   "source": [
    "<mark>The question that remains in my mind is: where is the Black-Scholes SDE used for this? To me, it feels like we just computed the expected value of the option at maturity and discount it to present value using the risk-free interest rate...</mark>\n",
    "I think I finally got my answer to this: there exists a [Feynman-Kac theorem/formula](https://en.wikipedia.org/wiki/Feynman%E2%80%93Kac_formula) that specifies how to solve such SDEs given the boundary conditions. Using the $\\max(V-K,0)$ one from the discussion above, we would end up getting the expressions abovle."
   ]
  },
  {
   "cell_type": "markdown",
   "metadata": {},
   "source": [
    "Finally, in the case where the underlying asset pays continuous dividends with a yield of $q$, then, similarly to what was done when we discussed future and forwards contracts, we need to \"replace\" $S_0$ by $S_0 e^{-qT}$. For example, $\\mathbb{E}[S_T] = S_t e^{(\\mu-q)\\tau}$. Therefore, more generally:\n",
    "\\begin{align*}\n",
    "C &= e^{(\\mu-r-q)\\tau} S_t N(d_1) - K e^{-r\\tau} N(d_2) \\\\\n",
    "P &= Ke^{-r\\tau}N(-d_2) - S_t e^{(\\mu-r-q)\\tau} N(-d_1) \\\\\n",
    "d_1 &= \\frac{1}{\\sigma \\sqrt{\\tau}}\\left[\\ln\\left(\\frac{\\mathbb{E}[S_T]}{K}\\right) + \\frac{\\sigma^2 \\tau}{2}\\right] = \n",
    "\\frac{1}{\\sigma \\sqrt{\\tau}}\\left[\\ln\\left(\\frac{S_t}{K}\\right) + \\tau\\left(\\mu - q + \\frac{\\sigma^2}{2}\\right)\\right] \\\\\n",
    "d_2 &= \\frac{1}{\\sigma \\sqrt{\\tau}}\\left[\\ln\\left(\\frac{\\mathbb{E}[S_T]}{K}\\right) - \\frac{\\sigma^2 \\tau}{2}\\right] = \n",
    "\\frac{1}{\\sigma \\sqrt{\\tau}}\\left[\\ln\\left(\\frac{S_t}{K}\\right) + \\tau\\left(\\mu - q - \\frac{\\sigma^2}{2}\\right)\\right]\n",
    "\\end{align*}"
   ]
  },
  {
   "cell_type": "markdown",
   "metadata": {},
   "source": [
    "It is also common to hear about the Greeks, which are presented here in tabular fashion. They basically correspond to different partial derivatives of the value $V$ of the derivative with respect to different things. (Note: these can also be applied to a portfolio of derivative securities)\n",
    "\n",
    "| Greek | Definition | Notes |\n",
    "| :---: | :--------: | :---: |\n",
    "|$\\Delta$| $\\frac{\\partial V}{\\partial S}$ | How to rebalance your portfolio for risk-neutrality |\n",
    "|$\\Gamma$| $\\frac{\\partial^2 V}{\\partial S^2}$ | How often to rebalance the portfolio |\n",
    "|$\\Theta$| $\\frac{\\partial V}{\\partial t}$ | Usually negative, since, as more time passes, <br> the lower the value of the option</br> |\n",
    "|$\\nu$| $\\frac{\\partial V}{\\partial \\sigma}$ | Referred to as Vega; important when <br>changes in volatility are expected </br>|\n",
    "|$\\Rho$| $\\frac{\\partial V}{\\partial r}$ | Sensitivity to interest rates |\n"
   ]
  }
 ],
 "metadata": {
  "kernelspec": {
   "display_name": "quant",
   "language": "python",
   "name": "python3"
  },
  "language_info": {
   "codemirror_mode": {
    "name": "ipython",
    "version": 3
   },
   "file_extension": ".py",
   "mimetype": "text/x-python",
   "name": "python",
   "nbconvert_exporter": "python",
   "pygments_lexer": "ipython3",
   "version": "3.11.11"
  }
 },
 "nbformat": 4,
 "nbformat_minor": 2
}
